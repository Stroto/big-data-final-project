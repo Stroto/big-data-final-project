{
 "cells": [
  {
   "cell_type": "code",
   "execution_count": 1,
   "metadata": {},
   "outputs": [],
   "source": [
    "import scrapper\n",
    "import requests\n",
    "from bs4 import element\n",
    "import re\n",
    "import numpy as np\n",
    "from collections import defaultdict\n",
    "import operator\n",
    "import pandas as pd\n",
    "\n",
    "CLIENT_ACCESS_TOKEN = 'x7D_HFMdSpFStJddZOmfavjW8ExkdNZnzABkCQGM7zyv7yWAPmdVS8iV1LgsK1VW'\n",
    "\n",
    "def search_song_info(song_title, artist):\n",
    "    \n",
    "  \n",
    "    base_url = 'https://api.genius.com'\n",
    "    headers = {'Authorization': 'Bearer ' + CLIENT_ACCESS_TOKEN}\n",
    "    search_url = base_url + '/search'\n",
    "    data = {'q': song_title + ' ' + artist}\n",
    "    response = requests.get(search_url, data=data, headers=headers)\n",
    "\n",
    "    return response\n",
    "\n",
    "def getSongInfo(song: tuple, i):\n",
    "    \n",
    "    song_title, artists, song_rank, song_year = song\n",
    "    found_page = False\n",
    "    producers = []\n",
    "    lyrics = \"\"\n",
    "    view_count = 0\n",
    "    \n",
    "    # Search the song on genius with the song title and one of the artists\n",
    "    # If search does not produce a list of producers, then search with the next available artist\n",
    "    # If song is not in genius, mark song data as NONE\n",
    "    count = 0\n",
    "    while(found_page == False and count < len(artists)):\n",
    "        json_res = search_song_info(song_title, artists[count]).json()\n",
    "        \n",
    "        \n",
    "        for hit in json_res['response']['hits']:\n",
    "            if artists[count].lower() in hit['result']['primary_artist']['name'].lower():\n",
    "                song_page = hit['result'][\"url\"]\n",
    "                song_api_path = hit['result']['api_path']\n",
    "                song_artist_page = hit['result'][\"primary_artist\"]['url']                \n",
    "                \n",
    "                producers, view_count = getProducers_and_ViewCount(song_api_path)\n",
    "                lyrics = scrapeLyrics(song_page)\n",
    "                # popular_songs = getPopularSongs(artists[count])\n",
    "                \n",
    "                #print(f\"COUNT: {i}\\nSong: {song[0]}, Artists: {song[1]}, Rank: {song[2]}, Year: {song[3]}\")\n",
    "                #print(f\"\", producers, \"\\n--------\")\n",
    "                found_page = True\n",
    "            break\n",
    "        count += 1\n",
    "        \n",
    "    return producers, lyrics, view_count\n",
    "\n",
    "def getProducers_and_ViewCount(api_path):\n",
    "    \n",
    "    base_url = 'https://api.genius.com'\n",
    "    headers = {'Authorization': 'Bearer ' + CLIENT_ACCESS_TOKEN}\n",
    "    search_url = base_url + api_path\n",
    "    \n",
    "    response = requests.get(search_url, headers=headers)\n",
    "    \n",
    "    json_res = response.json()\n",
    "    \n",
    "    producers = [producer['name'] for producer in json_res['response']['song'][\"producer_artists\"]]\n",
    "    view_count = json_res['response']['song']['stats']['pageviews']\n",
    "    \n",
    "    return producers, view_count\n",
    "\n",
    "def scrapeLyrics(url):\n",
    "    \"Gets the lyrics from the song's genius page. Lyrics is labeled by sections!\"\n",
    "    res = scrapper.getResponseSoup(url)\n",
    "\n",
    "    # Go to the metadata section where the Title, Artist, Features, and Produced By Info is\n",
    "    meta_data = res.find(\"div\", class_=\"lyrics\")\n",
    "    \n",
    "    lyrics = meta_data.text.strip()\n",
    " \n",
    "    return lyrics\n",
    "\n",
    "def re_strip(string):\n",
    "    new_string = re.sub(r'^(\\u200b)+', \"\", string)\n",
    "    new_string = re.sub(r'(\\u200b)+$', \"\", new_string)\n",
    "\n",
    "    return new_string\n",
    "\n",
    "def getPopularSongs(artist):\n",
    "    \n",
    "    \n",
    "    base_url = 'https://api.genius.com'\n",
    "    headers = {'Authorization': 'Bearer ' + CLIENT_ACCESS_TOKEN}\n",
    "    search_url = base_url + '/search'\n",
    "    data = {'q': artist}\n",
    "    json_res = requests.get(search_url, data=data, headers=headers).json()\n",
    "    \n",
    "    url = \"\"\n",
    "    \n",
    "    for hit in json_res['response']['hits']:\n",
    "        if artist.lower() in hit['result']['primary_artist']['name'].lower():\n",
    "            url = hit['result']['primary_artist']['url']\n",
    "            break\n",
    "        \n",
    "    res = scrapper.getResponseSoup(url)\n",
    "    \n",
    "    popular_songs_html_grid = res.find_all(\"div\", class_ = \"mini_card-title_and_subtitle\")\n",
    "    popular_songs = [(grid.find(\"div\", class_=\"mini_card-title\").text.strip(), grid.find(\"div\", class_=\"mini_card-subtitle\").text.strip()) for grid in popular_songs_html_grid]\n",
    "    \n",
    "    popular_songs = [(re_strip(song[0]), re.split(r'\\s*[,&)]\\s*', song[1])) for song in popular_songs]\n",
    "    popular_songs = [(song[0], song[1]) for song in popular_songs if \"Remix\" not in song[0]]\n",
    "    \n",
    "    print(popular_songs)   \n",
    "        \n",
    "        "
   ]
  },
  {
   "cell_type": "code",
   "execution_count": 3,
   "metadata": {},
   "outputs": [],
   "source": [
    "    \n",
    "url = \"https://www.billboard.com/charts/year-end/2019/hot-100-songs\"\n",
    "\n",
    "song_list = scrapper.getSongs(url, 2019)\n",
    "songs_with_metadata = []\n",
    "\n",
    "\n",
    "\n",
    "# Track songs, artists, and producers via set for ID Tagging:\n",
    "songs_artists_producers = defaultdict(set)\n",
    "\n",
    "# Shape is number of songs by number of metadata (6): Artists, Producers, Genius View Count, Lyrics, Year\n",
    "songs_matrix = [[0]*7]*len(song_list)"
   ]
  },
  {
   "cell_type": "code",
   "execution_count": 24,
   "metadata": {},
   "outputs": [],
   "source": [
    "songs_with_metadata = []"
   ]
  },
  {
   "cell_type": "code",
   "execution_count": 25,
   "metadata": {},
   "outputs": [
    {
     "name": "stdout",
     "output_type": "stream",
     "text": [
      "100\n"
     ]
    }
   ],
   "source": [
    "for i, song in enumerate(song_list):\n",
    "    song_name, song_artists, song_rank, year = song\n",
    "    producers, lyrics, view_count = getSongInfo(song, i)\n",
    "\n",
    "    songs_artists_producers['songs'].add(song_name)\n",
    "\n",
    "    for artist in song_artists:\n",
    "        songs_artists_producers['artists'].add(re.sub(r'^(Featuring)+\\s*', \"\", artist))\n",
    "    for producer in producers:\n",
    "        songs_artists_producers['producers'].add(producer)\n",
    "\n",
    "    songs_with_metadata.append((song_name, song_artists, producers, view_count, lyrics, song_rank, year))\n",
    "print(len(songs_with_metadata))"
   ]
  },
  {
   "cell_type": "code",
   "execution_count": 43,
   "metadata": {},
   "outputs": [
    {
     "data": {
      "text/plain": [
       "('Truth Hurts',\n",
       " ('Lizzo',),\n",
       " ['Tele', 'Ricky Reed'],\n",
       " 1841902,\n",
       " '[Intro]\\nWhy men great \\'til they gotta be great?\\nWoo!\\n\\n[Verse 1]\\nI just took a DNA test, turns out I\\'m 100% that bitch\\nEven when I\\'m crying crazy\\nYeah, I got boy problems, that\\'s the human in me\\nBling bling, then I solve \\'em, that\\'s the goddess in me\\nYou coulda had a bad bitch, non-committal\\nHelp you with your career just a little\\nYou\\'re \\'posed to hold me down, but you\\'re holding me back\\nAnd that\\'s the sound of me not calling you back\\n\\n[Chorus]\\nWhy men great \\'til they gotta be great? (\\'Til they gotta be great)\\nDon\\'t text me, tell it straight to my face (Tell it straight to my face)\\nBest friend sat me down in the salon chair (Down in the salon chair)\\nShampoo press, get you out of my hair\\nFresh photos with the bomb lighting (With the bomb lighting)\\nNew man on the Minnesota Vikings (Minnesota Vikings)\\nTruth hurts, needed something more exciting (Yee)\\nBom bom bi dom bi dum bum bay (Eh, yeah, yeah, yeah)\\n\\n[Verse 2]\\nYou tried to break my heart?\\nOh, that breaks my heart\\nThat you thought you ever had it\\nNo, you ain\\'t from the start\\nHey, I\\'m glad you\\'re back with your bitch\\nI mean, who would wanna hide this?\\nI will never, ever, ever, ever, ever be your side chick\\nI put the sing in single\\nAin\\'t worried \\'bout a ring on my finger\\nSo you can tell your friend, \"Shoot your shot\" when you see him\\nIt\\'s okay, he already in my DMs\\n\\n[Chorus]\\nWhy men great \\'til they gotta be great? (\\'Til they gotta be great)\\nDon\\'t text me, tell it straight to my face (Tell it straight to my face)\\nBest friend sat me down in the salon chair (Down in the salon chair)\\nShampoo press, get you out of my hair\\nFresh photos with the bomb lighting (With the bomb lighting)\\nNew man on the Minnesota Vikings (Minnesota Vikings)\\nTruth hurts, needed something more exciting (Yee)\\nBom bom bi dom bi dum bum bay (Eh, yeah, yeah, yeah)\\n\\n[Bridge]\\nI\\'ma hit you back in a minute (Yeah, yeah)\\nI don\\'t play tag, bitch, I been it (One time)\\nWe don\\'t fuck with lies (Two times), we don\\'t do goodbyes (Woo)\\nWe just keep it pushing like ay-ay-ay\\nI\\'ma hit you back in a minute (Yeah, yeah)\\nI don\\'t play tag, bitch, I been it (One time)\\nWe don\\'t fuck with lies (Two times), we don\\'t do goodbyes (Woo)\\nWe just keep it pushing like ay-ay-ay (Woo)\\n\\n[Chorus]\\nWhy men great \\'til they gotta be great? (\\'Til they gotta be great)\\nDon\\'t text me, tell it straight to my face (Tell it straight to my face)\\nBest friend sat me down in the salon chair (Down in the salon chair)\\nShampoo press, get you out of my hair\\nFresh photos with the bomb lighting (With the bomb lighting)\\nNew man on the Minnesota Vikings (Minnesota Vikings)\\nTruth hurts, needed something more exciting (Yee)\\nBom bom bi dom bi dum bum bay (Eh, yeah, yeah, yeah)\\n\\n[Outro]\\nWith the bomb lighting\\nMinnesota Vikings\\nYee, eh, yeah, yeah, yeah',\n",
       " 13,\n",
       " 2019)"
      ]
     },
     "execution_count": 43,
     "metadata": {},
     "output_type": "execute_result"
    }
   ],
   "source": [
    "songs_with_metadata[88]"
   ]
  },
  {
   "cell_type": "code",
   "execution_count": 27,
   "metadata": {},
   "outputs": [],
   "source": [
    "# Sort the Song Names via songs_with_metadata\n",
    "# Sort the Artists, and Producers\n",
    "# Enumerate and make the index the ID Representation of the Song, replace artists and prducers w. IDS too\n",
    "songs_with_metadata.sort(key = operator.itemgetter(0))\n",
    "artists = list(songs_artists_producers['artists'])\n",
    "artists.sort()\n",
    "producers = list(songs_artists_producers['producers'])\n",
    "producers.sort()"
   ]
  },
  {
   "cell_type": "code",
   "execution_count": null,
   "metadata": {},
   "outputs": [],
   "source": [
    "# Set up ID's\n",
    "id_to_artists_and_producers = defaultdict(dict)\n",
    "id_to_artists_and_producers['artists'] = defaultdict(str)\n",
    "id_to_artists_and_producers['producers'] = defaultdict(str)\n",
    "\n",
    "\n",
    "artists_and_producers_to_id = defaultdict(dict)\n",
    "artists_and_producers_to_id['artists'] = defaultdict(int)\n",
    "artists_and_producers_to_id['producers'] = defaultdict(int)\n",
    "\n",
    "for i, artist in enumerate(artists):\n",
    "    id_to_artists_and_producers['artists'][i] = artist\n",
    "    artists_and_producers_to_id['artists'][artist] = i\n",
    "\n",
    "for i, producers in enumerate(producers):\n",
    "    id_to_artists_and_producers['producers'][i] = artist\n",
    "    artists_and_producers_to_id['producers'][artist] = i"
   ]
  },
  {
   "cell_type": "code",
   "execution_count": null,
   "metadata": {},
   "outputs": [],
   "source": [
    "# Structure data into a np array and finally a Pandas Dataframe\n",
    "for i, song in enumerate(songs_with_metadata):\n",
    "    for j, metadata in enumerate(song):\n",
    "        songs_matrix[i][j] = metadata\n",
    "        print()\n",
    "\n",
    "df = pd.DataFrame(songs_matrix, columns = ['Song Title', \"Artists\", \"Producers\", \"Genius ViewCount\", \"Lyrics\", \"Song Rank\", \"Year\"]) \n",
    "df.to_csv('songs.csv')"
   ]
  }
 ],
 "metadata": {
  "kernelspec": {
   "display_name": "Python 3",
   "language": "python",
   "name": "python3"
  },
  "language_info": {
   "codemirror_mode": {
    "name": "ipython",
    "version": 3
   },
   "file_extension": ".py",
   "mimetype": "text/x-python",
   "name": "python",
   "nbconvert_exporter": "python",
   "pygments_lexer": "ipython3",
   "version": "3.7.4"
  }
 },
 "nbformat": 4,
 "nbformat_minor": 4
}
